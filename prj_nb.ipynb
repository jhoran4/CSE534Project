{
 "cells": [
  {
   "cell_type": "markdown",
   "metadata": {},
   "source": [
    "# Justin Horan CSE 534 Project - Adaptive Video Streaming Policy"
   ]
  },
  {
   "cell_type": "code",
   "execution_count": 3,
   "metadata": {},
   "outputs": [
    {
     "data": {
      "text/html": [
       "<style type=\"text/css\">\n",
       "#T_c506b tr:nth-child(even) {\n",
       "  background: #dbf3ff;\n",
       "  color: #231f20;\n",
       "}\n",
       "#T_c506b tr:nth-child(odd) {\n",
       "  background: #ffffff;\n",
       "  color: #231f20;\n",
       "}\n",
       "#T_c506b caption {\n",
       "  text-align: center;\n",
       "  font-size: 150%;\n",
       "}\n",
       "#T_c506b_row0_col0, #T_c506b_row0_col1, #T_c506b_row1_col0, #T_c506b_row1_col1, #T_c506b_row2_col0, #T_c506b_row2_col1, #T_c506b_row3_col0, #T_c506b_row3_col1, #T_c506b_row4_col0, #T_c506b_row4_col1, #T_c506b_row5_col0, #T_c506b_row5_col1, #T_c506b_row6_col0, #T_c506b_row6_col1, #T_c506b_row7_col0, #T_c506b_row7_col1, #T_c506b_row8_col0, #T_c506b_row8_col1, #T_c506b_row9_col0, #T_c506b_row9_col1, #T_c506b_row10_col0, #T_c506b_row10_col1, #T_c506b_row11_col0, #T_c506b_row11_col1, #T_c506b_row12_col0, #T_c506b_row12_col1, #T_c506b_row13_col0, #T_c506b_row13_col1, #T_c506b_row14_col0, #T_c506b_row14_col1, #T_c506b_row15_col0, #T_c506b_row15_col1, #T_c506b_row16_col0, #T_c506b_row16_col1 {\n",
       "  text-align: left;\n",
       "  border: 1px #231f20 solid !important;\n",
       "  overwrite: False;\n",
       "}\n",
       "</style>\n",
       "<table id=\"T_c506b\">\n",
       "  <caption>FABlib Config</caption>\n",
       "  <thead>\n",
       "  </thead>\n",
       "  <tbody>\n",
       "    <tr>\n",
       "      <td id=\"T_c506b_row0_col0\" class=\"data row0 col0\" >Credential Manager</td>\n",
       "      <td id=\"T_c506b_row0_col1\" class=\"data row0 col1\" >cm.fabric-testbed.net</td>\n",
       "    </tr>\n",
       "    <tr>\n",
       "      <td id=\"T_c506b_row1_col0\" class=\"data row1 col0\" >Orchestrator</td>\n",
       "      <td id=\"T_c506b_row1_col1\" class=\"data row1 col1\" >orchestrator.fabric-testbed.net</td>\n",
       "    </tr>\n",
       "    <tr>\n",
       "      <td id=\"T_c506b_row2_col0\" class=\"data row2 col0\" >Project ID</td>\n",
       "      <td id=\"T_c506b_row2_col1\" class=\"data row2 col1\" >6ce270de-788d-4e07-8bae-3206860a6387</td>\n",
       "    </tr>\n",
       "    <tr>\n",
       "      <td id=\"T_c506b_row3_col0\" class=\"data row3 col0\" >Token File</td>\n",
       "      <td id=\"T_c506b_row3_col1\" class=\"data row3 col1\" >/home/fabric/.tokens.json</td>\n",
       "    </tr>\n",
       "    <tr>\n",
       "      <td id=\"T_c506b_row4_col0\" class=\"data row4 col0\" >Bastion Host</td>\n",
       "      <td id=\"T_c506b_row4_col1\" class=\"data row4 col1\" >bastion.fabric-testbed.net</td>\n",
       "    </tr>\n",
       "    <tr>\n",
       "      <td id=\"T_c506b_row5_col0\" class=\"data row5 col0\" >Bastion Username</td>\n",
       "      <td id=\"T_c506b_row5_col1\" class=\"data row5 col1\" >jhoran4_0000159239</td>\n",
       "    </tr>\n",
       "    <tr>\n",
       "      <td id=\"T_c506b_row6_col0\" class=\"data row6 col0\" >Bastion Private Key File</td>\n",
       "      <td id=\"T_c506b_row6_col1\" class=\"data row6 col1\" >/home/fabric/work/fabric_config/fabric_bastion_key</td>\n",
       "    </tr>\n",
       "    <tr>\n",
       "      <td id=\"T_c506b_row7_col0\" class=\"data row7 col0\" >Slice Private Key File</td>\n",
       "      <td id=\"T_c506b_row7_col1\" class=\"data row7 col1\" >/home/fabric/work/fabric_config/slice_key</td>\n",
       "    </tr>\n",
       "    <tr>\n",
       "      <td id=\"T_c506b_row8_col0\" class=\"data row8 col0\" >Slice Public Key File</td>\n",
       "      <td id=\"T_c506b_row8_col1\" class=\"data row8 col1\" >/home/fabric/work/fabric_config/slice_key.pub</td>\n",
       "    </tr>\n",
       "    <tr>\n",
       "      <td id=\"T_c506b_row9_col0\" class=\"data row9 col0\" >Log File</td>\n",
       "      <td id=\"T_c506b_row9_col1\" class=\"data row9 col1\" >/tmp/fablib/fablib.log</td>\n",
       "    </tr>\n",
       "    <tr>\n",
       "      <td id=\"T_c506b_row10_col0\" class=\"data row10 col0\" >Log Level</td>\n",
       "      <td id=\"T_c506b_row10_col1\" class=\"data row10 col1\" >INFO</td>\n",
       "    </tr>\n",
       "    <tr>\n",
       "      <td id=\"T_c506b_row11_col0\" class=\"data row11 col0\" >Sites to avoid</td>\n",
       "      <td id=\"T_c506b_row11_col1\" class=\"data row11 col1\" ></td>\n",
       "    </tr>\n",
       "    <tr>\n",
       "      <td id=\"T_c506b_row12_col0\" class=\"data row12 col0\" >SSH Command Line</td>\n",
       "      <td id=\"T_c506b_row12_col1\" class=\"data row12 col1\" >ssh -i {{ _self_.private_ssh_key_file }} -F /home/fabric/work/fabric_config/ssh_config {{ _self_.username }}@{{ _self_.management_ip }}</td>\n",
       "    </tr>\n",
       "    <tr>\n",
       "      <td id=\"T_c506b_row13_col0\" class=\"data row13 col0\" >Version</td>\n",
       "      <td id=\"T_c506b_row13_col1\" class=\"data row13 col1\" >1.6.2</td>\n",
       "    </tr>\n",
       "    <tr>\n",
       "      <td id=\"T_c506b_row14_col0\" class=\"data row14 col0\" >Data directory</td>\n",
       "      <td id=\"T_c506b_row14_col1\" class=\"data row14 col1\" >/tmp/fablib</td>\n",
       "    </tr>\n",
       "    <tr>\n",
       "      <td id=\"T_c506b_row15_col0\" class=\"data row15 col0\" >Core API</td>\n",
       "      <td id=\"T_c506b_row15_col1\" class=\"data row15 col1\" >uis.fabric-testbed.net</td>\n",
       "    </tr>\n",
       "    <tr>\n",
       "      <td id=\"T_c506b_row16_col0\" class=\"data row16 col0\" >Bastion SSH Config File</td>\n",
       "      <td id=\"T_c506b_row16_col1\" class=\"data row16 col1\" >/home/fabric/work/fabric_config/ssh_config</td>\n",
       "    </tr>\n",
       "  </tbody>\n",
       "</table>\n"
      ],
      "text/plain": [
       "<pandas.io.formats.style.Styler at 0x7f6e14281690>"
      ]
     },
     "metadata": {},
     "output_type": "display_data"
    }
   ],
   "source": [
    "from fabrictestbed_extensions.fablib.fablib import FablibManager as fablib_manager\n",
    "fablib = fablib_manager()\n",
    "\n",
    "conf = fablib.show_config()"
   ]
  },
  {
   "cell_type": "markdown",
   "metadata": {},
   "source": [
    "### Define FABRIC nodes and establish slice"
   ]
  },
  {
   "cell_type": "code",
   "execution_count": 4,
   "metadata": {},
   "outputs": [
    {
     "name": "stdout",
     "output_type": "stream",
     "text": [
      "You already have a slice by this name!\n",
      "If you previously reserved resources, skip to the 'log in to resources' section.\n"
     ]
    }
   ],
   "source": [
    "slice_name = \"new-video-streaming-policy-\" + fablib.get_bastion_username()\n",
    "\n",
    "clt = \"justin\" # Client\n",
    "srv = \"vid_db\" # Server\n",
    "rtr = \"router\" # Router\n",
    "\n",
    "''' \n",
    "Establish 3 distinct nodes for the slice: \n",
    "    justin -- Will be the user of the DASH client with the various video streaming policies\n",
    "    vid_db -- The server that will hold the video to send to romeo\n",
    "    router -- Will establish the route from juliet to romeo and vice-versa\n",
    "'''\n",
    "\n",
    "node_conf = [\n",
    "    {'name': clt, 'cores': 2, 'ram': 4, 'disk': 10, 'image': 'default_ubuntu_20', 'packages': ['net-tools', 'iperf3', 'moreutils']},\n",
    "    {'name': srv, 'cores': 2, 'ram': 4, 'disk': 10, 'image': 'default_ubuntu_20', 'packages': ['net-tools', 'iperf3', 'moreutils']},\n",
    "    {'name': rtr, 'cores': 2, 'ram': 4, 'disk': 10, 'image': 'default_ubuntu_20', 'packages': ['net-tools']}\n",
    "]\n",
    "\n",
    "'''\n",
    "Establish the network configuration between all 3 nodes\n",
    "    Subnets: \n",
    "        client - 10.10.1.0/24\n",
    "        server - 10.10.2.0/24\n",
    "    Specific addresses:\n",
    "        client - 10.10.1.5\n",
    "        router - 10.10.1.50\n",
    "        server - 10.10.2.5\n",
    "        router - 10.10.2.50\n",
    "'''\n",
    "\n",
    "clt_subnet   = \"10.10.1.0/24\"\n",
    "srv_subnet   = \"10.10.2.0/24\"\n",
    "\n",
    "clt_addr     = \"10.10.1.5\"\n",
    "srv_addr     = \"10.10.2.5\"\n",
    "rtr_addr_clt = \"10.10.1.50\"\n",
    "rtr_addr_srv = \"10.10.2.50\"\n",
    "\n",
    "net_conf = [\n",
    " {\"name\": \"net\" + clt, \"subnet\": clt_subnet, \"nodes\": [{\"name\": clt,  \"addr\": clt_addr}, {\"name\": rtr, \"addr\": rtr_addr_clt}]},\n",
    " {\"name\": \"net\" + srv, \"subnet\": srv_subnet, \"nodes\": [{\"name\": srv,  \"addr\": srv_addr}, {\"name\": rtr, \"addr\": rtr_addr_srv}]},\n",
    "]\n",
    "\n",
    "'''\n",
    "Establish the routes between the client and the server\n",
    "    Client to Server\n",
    "        Any address in 10.10.1.0/24 subnet gets to server through 10.10.2.50 gateway\n",
    "    Server to Client\n",
    "        Any address in 10.10.1.0/24 subnet gets to server through 10.10.1.50 gateway\n",
    "'''\n",
    "\n",
    "route_conf = [\n",
    " {\"addr\": clt_subnet, \"gw\": rtr_addr_srv, \"nodes\": [srv]}, \n",
    " {\"addr\": srv_subnet, \"gw\": rtr_addr_clt, \"nodes\": [clt]}\n",
    "]\n",
    "\n",
    "'''\n",
    "Establish experiment configuration\n",
    "'''\n",
    "\n",
    "exp_conf = {'cores': sum([ n['cores'] for n in node_conf]), 'nic': sum([len(n['nodes']) for n in net_conf]) }\n",
    "\n",
    "'''\n",
    "    Ensure the slice does not exist yet\n",
    "'''\n",
    "\n",
    "try:\n",
    "    slice = fablib.get_slice(slice_name)\n",
    "    print(\"You already have a slice by this name!\")\n",
    "    print(\"If you previously reserved resources, skip to the 'log in to resources' section.\")\n",
    "except:\n",
    "    print(\"You don't have a slice named %s yet.\" % slice_name)\n",
    "    print(\"Continue to the next step to make one.\")\n",
    "    slice = fablib.new_slice(name=slice_name)\n"
   ]
  },
  {
   "cell_type": "code",
   "execution_count": null,
   "metadata": {},
   "outputs": [],
   "source": [
    "'''\n",
    "Obtain a suitable site for the slice to be hosted on\n",
    "'''\n",
    "\n",
    "while True:\n",
    "    site_name = fablib.get_random_site()\n",
    "    if ( (fablib.resources.get_core_available(site_name) > 1.2*exp_conf['cores']) and\n",
    "        (fablib.resources.get_component_available(site_name, 'SharedNIC-ConnectX-6') > 1.2**exp_conf['nic']) ):\n",
    "        break\n",
    "\n",
    "fablib.show_site(site_name)"
   ]
  },
  {
   "cell_type": "markdown",
   "metadata": {},
   "source": [
    "### Configure the slice properly and submit the request"
   ]
  },
  {
   "cell_type": "code",
   "execution_count": null,
   "metadata": {},
   "outputs": [],
   "source": [
    "'''\n",
    "Add the nodes to the slice\n",
    "'''\n",
    "for n in node_conf:\n",
    "    slice.add_node(name=n['name'],\n",
    "                   site = site_name,\n",
    "                   cores=n['cores'],\n",
    "                   ram=n['ram'],\n",
    "                   disk=n['disk'],\n",
    "                   image=n['image'],)\n",
    "\n",
    "'''\n",
    "Configure and add the network interface cards (Basic) for each network\n",
    "Add each configured network to the slice\n",
    "'''\n",
    "for n in net_conf:\n",
    "    ifaces = [slice.get_node(node[\"name\"]).add_component(model=\"NIC_Basic\", \n",
    "                                                 name=n[\"name\"]).get_interfaces()[0] for node in n['nodes'] ]\n",
    "    slice.add_l2network(name=n[\"name\"], type='L2Bridge', interfaces=ifaces)\n",
    "    \n",
    "slice.submit()"
   ]
  },
  {
   "cell_type": "code",
   "execution_count": null,
   "metadata": {},
   "outputs": [],
   "source": [
    "slice.get_state()\n",
    "slice.wait_ssh(progress=True)"
   ]
  },
  {
   "cell_type": "markdown",
   "metadata": {},
   "source": [
    "### Configure the created slice"
   ]
  },
  {
   "cell_type": "code",
   "execution_count": null,
   "metadata": {},
   "outputs": [],
   "source": [
    "slice = fablib.get_slice(name=slice_name)\n",
    "\n",
    "# Install all of the packages listed for each node in the configuration\n",
    "for n in node_conf:\n",
    "    if len(n['packages']):\n",
    "        node = slice.get_node(n['name'])\n",
    "        pkg = \" \".join(n['packages'])\n",
    "        node.execute_thread(\"sudo apt update; sudo apt -y install %s\" % pkg)\n",
    "\n",
    "# Assign ip addresses to interfaces\n",
    "from ipaddress import ip_address, IPv4Address, IPv4Network\n",
    "\n",
    "for net in net_conf:\n",
    "    for n in net['nodes']:\n",
    "        if_name = n['name'] + '-' + net['name'] + '-p1'\n",
    "        iface = slice.get_interface(if_name)\n",
    "        iface.ip_link_up()\n",
    "        if n['addr']:\n",
    "            iface.ip_addr_add(addr=n['addr'], subnet=IPv4Network(net['subnet']))\n",
    "        else:\n",
    "            iface.get_node().execute(\"sudo ip addr flush dev %s\"  % iface.get_device_name())"
   ]
  },
  {
   "cell_type": "code",
   "execution_count": null,
   "metadata": {},
   "outputs": [],
   "source": [
    "# Store host name and IP addresses of each node\n",
    "hosts_txt = [ \"%s\\t%s\" % ( n['addr'], n['name'] ) for net in net_conf  for n in net['nodes'] if type(n) is dict and n['addr']]\n",
    "for n in slice.get_nodes():\n",
    "    for h in hosts_txt:\n",
    "        n.execute(\"echo %s | sudo tee -a /etc/hosts\" % h)"
   ]
  },
  {
   "cell_type": "code",
   "execution_count": null,
   "metadata": {},
   "outputs": [],
   "source": [
    "# enable IPv4 forwarding on all nodes\n",
    "for n in slice.get_nodes():\n",
    "    n.execute(\"sudo sysctl -w net.ipv4.ip_forward=1\")\n",
    "    \n",
    "# set up static routes\n",
    "for rt in route_conf:\n",
    "    for n in rt['nodes']:\n",
    "        slice.get_node(name=n).ip_route_add(subnet=IPv4Network(rt['addr']), gateway=rt['gw'])"
   ]
  },
  {
   "cell_type": "markdown",
   "metadata": {},
   "source": [
    "### Extend slice"
   ]
  },
  {
   "cell_type": "code",
   "execution_count": null,
   "metadata": {},
   "outputs": [],
   "source": [
    "from datetime import datetime\n",
    "from datetime import timezone\n",
    "from datetime import timedelta\n",
    "\n",
    "# Set end date to 7 days from now\n",
    "end_date = (datetime.now(timezone.utc) + timedelta(days=7)).strftime(\"%Y-%m-%d %H:%M:%S %z\")\n",
    "slice.renew(end_date)"
   ]
  },
  {
   "cell_type": "markdown",
   "metadata": {
    "jp-MarkdownHeadingCollapsed": true,
    "tags": []
   },
   "source": [
    "### Draw network topology"
   ]
  },
  {
   "cell_type": "code",
   "execution_count": null,
   "metadata": {},
   "outputs": [],
   "source": [
    "import networkx as nx\n",
    "import matplotlib.pyplot as plt\n",
    "\n",
    "l2_nets = [(n.get_name(), {'color': 'lavender'}) for n in slice.get_l2networks() ]\n",
    "l3_nets = [(n.get_name(), {'color': 'pink'}) for n in slice.get_l3networks() ]\n",
    "hosts   =   [(n.get_name(), {'color': 'lightblue'}) for n in slice.get_nodes()]\n",
    "nodes = l2_nets + l3_nets + hosts\n",
    "ifaces = [iface.toDict() for iface in slice.get_interfaces()]\n",
    "edges = [(iface['network'], iface['node'], \n",
    "          {'label': iface['physical_dev'] + '\\n' + iface['ip_addr'] + '\\n' + iface['mac']}) for iface in ifaces]\n",
    "\n",
    "plt.figure(figsize=(len(nodes),len(nodes)))\n",
    "G = nx.Graph()\n",
    "G.add_nodes_from(nodes)\n",
    "G.add_edges_from(edges)\n",
    "pos = nx.spring_layout(G)\n",
    "nx.draw(G, pos, node_shape='s',  \n",
    "        node_color=[n[1]['color'] for n in nodes], \n",
    "        node_size=[len(n[0])*400 for n in nodes],  \n",
    "        with_labels=True);\n",
    "nx.draw_networkx_edge_labels(G,pos,\n",
    "                             edge_labels=nx.get_edge_attributes(G,'label'),\n",
    "                             font_color='gray',  font_size=8, rotate=False);"
   ]
  },
  {
   "cell_type": "markdown",
   "metadata": {
    "tags": []
   },
   "source": [
    "### Login to resources"
   ]
  },
  {
   "cell_type": "code",
   "execution_count": 21,
   "metadata": {},
   "outputs": [
    {
     "data": {
      "text/html": [
       "<div>\n",
       "<style scoped>\n",
       "    .dataframe tbody tr th:only-of-type {\n",
       "        vertical-align: middle;\n",
       "    }\n",
       "\n",
       "    .dataframe tbody tr th {\n",
       "        vertical-align: top;\n",
       "    }\n",
       "\n",
       "    .dataframe thead th {\n",
       "        text-align: right;\n",
       "    }\n",
       "</style>\n",
       "<table border=\"1\" class=\"dataframe\">\n",
       "  <thead>\n",
       "    <tr style=\"text-align: right;\">\n",
       "      <th></th>\n",
       "      <th>SSH command</th>\n",
       "    </tr>\n",
       "    <tr>\n",
       "      <th>Name</th>\n",
       "      <th></th>\n",
       "    </tr>\n",
       "  </thead>\n",
       "  <tbody>\n",
       "    <tr>\n",
       "      <th>justin</th>\n",
       "      <td>ssh -i /home/fabric/work/fabric_config/slice_key -F /home/fabric/work/fabric_config/ssh_config ubuntu@2607:f018:110:11:f816:3eff:fe9c:a2c7</td>\n",
       "    </tr>\n",
       "    <tr>\n",
       "      <th>vid_db</th>\n",
       "      <td>ssh -i /home/fabric/work/fabric_config/slice_key -F /home/fabric/work/fabric_config/ssh_config ubuntu@2607:f018:110:11:f816:3eff:fe7a:209e</td>\n",
       "    </tr>\n",
       "    <tr>\n",
       "      <th>router</th>\n",
       "      <td>ssh -i /home/fabric/work/fabric_config/slice_key -F /home/fabric/work/fabric_config/ssh_config ubuntu@2607:f018:110:11:f816:3eff:fead:f82b</td>\n",
       "    </tr>\n",
       "  </tbody>\n",
       "</table>\n",
       "</div>"
      ],
      "text/plain": [
       "                                                                                                                                       SSH command\n",
       "Name                                                                                                                                              \n",
       "justin  ssh -i /home/fabric/work/fabric_config/slice_key -F /home/fabric/work/fabric_config/ssh_config ubuntu@2607:f018:110:11:f816:3eff:fe9c:a2c7\n",
       "vid_db  ssh -i /home/fabric/work/fabric_config/slice_key -F /home/fabric/work/fabric_config/ssh_config ubuntu@2607:f018:110:11:f816:3eff:fe7a:209e\n",
       "router  ssh -i /home/fabric/work/fabric_config/slice_key -F /home/fabric/work/fabric_config/ssh_config ubuntu@2607:f018:110:11:f816:3eff:fead:f82b"
      ]
     },
     "execution_count": 21,
     "metadata": {},
     "output_type": "execute_result"
    }
   ],
   "source": [
    "import pandas as pd\n",
    "pd.set_option('display.max_colwidth', None)\n",
    "slice_info = [{'Name': n.get_name(), 'SSH command': n.get_ssh_command()} for n in slice.get_nodes()]\n",
    "pd.DataFrame(slice_info).set_index('Name')"
   ]
  },
  {
   "cell_type": "markdown",
   "metadata": {
    "tags": []
   },
   "source": [
    "### Execute Experiments via Sending Commands"
   ]
  },
  {
   "cell_type": "code",
   "execution_count": 5,
   "metadata": {},
   "outputs": [],
   "source": [
    "import pprint\n",
    "\n",
    "HOME = \"/home/fabric/work/CSE534_Project/results/\"\n",
    "\n",
    "RB = \"rb/\"\n",
    "BB = \"bb/\"\n",
    "SARA = \"sara/\"\n",
    "RA = \"ra/\"\n",
    "\n",
    "CBR = \"cbr/\"\n",
    "INTERRUPTIONS = \"interruptions/\"\n",
    "TRACE_M15 = \"trace/bus_m15/\"\n",
    "TRACE_B62 = \"trace/bus_b62_2/\"\n",
    "TRACE_NYU = \"trace/NYU_Campus_Bus/\"\n",
    "\n",
    "slice = fablib.get_slice(name=slice_name)\n",
    "\n",
    "nodes = slice.get_nodes()\n",
    "client = nodes[0]\n",
    "server = nodes[1]\n",
    "router = nodes[2]"
   ]
  },
  {
   "cell_type": "markdown",
   "metadata": {},
   "source": [
    "#### Reset Client"
   ]
  },
  {
   "cell_type": "code",
   "execution_count": 6,
   "metadata": {
    "tags": []
   },
   "outputs": [],
   "source": [
    "stdout, stderr = client.execute(\"sudo bash reset.sh\",\n",
    "                                private_key_file=\"/home/fabric/work/fabric_config/slice_key\",\n",
    "                                quiet=True)"
   ]
  },
  {
   "cell_type": "markdown",
   "metadata": {
    "tags": []
   },
   "source": [
    "#### Run CBR Experiment"
   ]
  },
  {
   "cell_type": "code",
   "execution_count": null,
   "metadata": {
    "tags": []
   },
   "outputs": [],
   "source": [
    "# Set the Router's Rate to 1000KBit\n",
    "stdout, stderr = router.execute(\"bash rate-set.sh 1000Kbit\")"
   ]
  },
  {
   "cell_type": "markdown",
   "metadata": {
    "tags": []
   },
   "source": [
    "##### Rate-Based"
   ]
  },
  {
   "cell_type": "code",
   "execution_count": null,
   "metadata": {},
   "outputs": [],
   "source": [
    "dir_to_save = HOME + RB + CBR\n",
    "\n",
    "stdout, stderr = client.execute(\"python3 ~/AStream/dist/client/dash_client.py -m http://vid_db/media/BigBuckBunny/4sec/BigBuckBunny_4s.mpd -p 'basic' -d\",\n",
    "                                private_key_file=\"/home/fabric/work/fabric_config/slice_key\",\n",
    "                                quiet=True,\n",
    "                                timeout=180)\n",
    "\n",
    "client.execute(\"sudo bash extract_results.sh\",\n",
    "                private_key_file=\"/home/fabric/work/fabric_config/slice_key\",\n",
    "                quiet=True)\n",
    "\n",
    "client.download_file(dir_to_save + \"BigBuckBunny.mp4\", \"/home/ubuntu/BigBuckBunny.mp4\")\n",
    "\n",
    "DASH_BUFFER_LOG=\"DASH_BUFFER_LOG-last.csv\"\n",
    "client.download_file(dir_to_save + \"DASH_BUFFER_LOG.csv\", \"/home/ubuntu/ASTREAM_LOGS/\" + DASH_BUFFER_LOG)\n",
    "\n",
    "stdout, stderr = client.execute(\"sudo bash reset.sh\",\n",
    "                                private_key_file=\"/home/fabric/work/fabric_config/slice_key\",\n",
    "                                quiet=True)"
   ]
  },
  {
   "cell_type": "markdown",
   "metadata": {
    "tags": []
   },
   "source": [
    "##### Buffer-Based"
   ]
  },
  {
   "cell_type": "code",
   "execution_count": null,
   "metadata": {},
   "outputs": [],
   "source": [
    "dir_to_save = HOME + BB + CBR\n",
    "\n",
    "stdout, stderr = client.execute(\"python3 ~/AStream/dist/client/dash_client.py -m http://vid_db/media/BigBuckBunny/4sec/BigBuckBunny_4s.mpd -p 'netflix' -d\",\n",
    "                                private_key_file=\"/home/fabric/work/fabric_config/slice_key\",\n",
    "                                quiet=True,\n",
    "                                timeout=180)\n",
    "\n",
    "client.execute(\"sudo bash extract_results.sh\",\n",
    "                private_key_file=\"/home/fabric/work/fabric_config/slice_key\",\n",
    "                quiet=True)\n",
    "\n",
    "client.download_file(dir_to_save + \"BigBuckBunny.mp4\", \"/home/ubuntu/BigBuckBunny.mp4\")\n",
    "\n",
    "DASH_BUFFER_LOG=\"DASH_BUFFER_LOG-last.csv\"\n",
    "client.download_file(dir_to_save + \"DASH_BUFFER_LOG.csv\", \"/home/ubuntu/ASTREAM_LOGS/\" + DASH_BUFFER_LOG)\n",
    "\n",
    "stdout, stderr = client.execute(\"sudo bash reset.sh\",\n",
    "                                private_key_file=\"/home/fabric/work/fabric_config/slice_key\",\n",
    "                                quiet=True)"
   ]
  },
  {
   "cell_type": "markdown",
   "metadata": {
    "tags": []
   },
   "source": [
    "##### SARA"
   ]
  },
  {
   "cell_type": "code",
   "execution_count": null,
   "metadata": {},
   "outputs": [],
   "source": [
    "dir_to_save = HOME + SARA + CBR\n",
    "\n",
    "stdout, stderr = client.execute(\"python3 ~/AStream/dist/client/dash_client.py -m http://vid_db/media/BigBuckBunny/4sec/BigBuckBunny_4s.mpd -p 'sara' -d\",\n",
    "                                private_key_file=\"/home/fabric/work/fabric_config/slice_key\",\n",
    "                                quiet=True,\n",
    "                                timeout=180)\n",
    "\n",
    "client.execute(\"sudo bash extract_results.sh\",\n",
    "                private_key_file=\"/home/fabric/work/fabric_config/slice_key\",\n",
    "                quiet=True)\n",
    "\n",
    "client.download_file(dir_to_save + \"BigBuckBunny.mp4\", \"/home/ubuntu/BigBuckBunny.mp4\")\n",
    "\n",
    "DASH_BUFFER_LOG=\"DASH_BUFFER_LOG-last.csv\"\n",
    "client.download_file(dir_to_save + \"DASH_BUFFER_LOG.csv\", \"/home/ubuntu/ASTREAM_LOGS/\" + DASH_BUFFER_LOG)\n",
    "\n",
    "stdout, stderr = client.execute(\"sudo bash reset.sh\",\n",
    "                                private_key_file=\"/home/fabric/work/fabric_config/slice_key\",\n",
    "                                quiet=True)"
   ]
  },
  {
   "cell_type": "markdown",
   "metadata": {
    "tags": []
   },
   "source": [
    "##### Randomized Adaptation"
   ]
  },
  {
   "cell_type": "code",
   "execution_count": null,
   "metadata": {},
   "outputs": [],
   "source": [
    "dir_to_save = HOME + RA + CBR\n",
    "\n",
    "stdout, stderr = client.execute(\"python3 ~/AStream/dist/client/dash_client.py -m http://vid_db/media/BigBuckBunny/4sec/BigBuckBunny_4s.mpd -p 'randomized' -d\",\n",
    "                                private_key_file=\"/home/fabric/work/fabric_config/slice_key\",\n",
    "                                quiet=True,\n",
    "                                timeout=180)\n",
    "\n",
    "client.execute(\"sudo bash extract_results.sh\",\n",
    "                private_key_file=\"/home/fabric/work/fabric_config/slice_key\",\n",
    "                quiet=True)\n",
    "\n",
    "client.download_file(dir_to_save + \"BigBuckBunny.mp4\", \"/home/ubuntu/BigBuckBunny.mp4\")\n",
    "\n",
    "DASH_BUFFER_LOG=\"DASH_BUFFER_LOG-last.csv\"\n",
    "client.download_file(dir_to_save + \"DASH_BUFFER_LOG.csv\", \"/home/ubuntu/ASTREAM_LOGS/\" + DASH_BUFFER_LOG)\n",
    "\n",
    "stdout, stderr = client.execute(\"sudo bash reset.sh\",\n",
    "                                private_key_file=\"/home/fabric/work/fabric_config/slice_key\",\n",
    "                                quiet=True)"
   ]
  },
  {
   "cell_type": "markdown",
   "metadata": {
    "tags": []
   },
   "source": [
    "#### Run Interruptions Experiment on Terminal"
   ]
  },
  {
   "cell_type": "code",
   "execution_count": 43,
   "metadata": {},
   "outputs": [],
   "source": [
    "# Download Log files\n",
    "dir_to_save = HOME + RB + INTERRUPTIONS\n",
    "client.download_file(dir_to_save + \"BigBuckBunny.mp4\", \"/home/ubuntu/BigBuckBunny.mp4\")\n",
    "DASH_BUFFER_LOG=\"DASH_BUFFER_LOG-last.csv\"\n",
    "client.download_file(dir_to_save + \"DASH_BUFFER_LOG.csv\", \"/home/ubuntu/ASTREAM_LOGS/\" + DASH_BUFFER_LOG)"
   ]
  },
  {
   "cell_type": "code",
   "execution_count": 44,
   "metadata": {},
   "outputs": [],
   "source": [
    "# Download Log files\n",
    "dir_to_save = HOME + BB + INTERRUPTIONS\n",
    "client.download_file(dir_to_save + \"BigBuckBunny.mp4\", \"/home/ubuntu/BigBuckBunny.mp4\")\n",
    "DASH_BUFFER_LOG=\"DASH_BUFFER_LOG-last.csv\"\n",
    "client.download_file(dir_to_save + \"DASH_BUFFER_LOG.csv\", \"/home/ubuntu/ASTREAM_LOGS/\" + DASH_BUFFER_LOG)"
   ]
  },
  {
   "cell_type": "code",
   "execution_count": 45,
   "metadata": {},
   "outputs": [],
   "source": [
    "# Download Log files\n",
    "dir_to_save = HOME + SARA + INTERRUPTIONS\n",
    "client.download_file(dir_to_save + \"BigBuckBunny.mp4\", \"/home/ubuntu/BigBuckBunny.mp4\")\n",
    "DASH_BUFFER_LOG=\"DASH_BUFFER_LOG-last.csv\"\n",
    "client.download_file(dir_to_save + \"DASH_BUFFER_LOG.csv\", \"/home/ubuntu/ASTREAM_LOGS/\" + DASH_BUFFER_LOG)"
   ]
  },
  {
   "cell_type": "code",
   "execution_count": 47,
   "metadata": {},
   "outputs": [],
   "source": [
    "# Download Log files\n",
    "dir_to_save = HOME + RA + INTERRUPTIONS\n",
    "client.download_file(dir_to_save + \"BigBuckBunny.mp4\", \"/home/ubuntu/BigBuckBunny.mp4\")\n",
    "DASH_BUFFER_LOG=\"DASH_BUFFER_LOG-last.csv\"\n",
    "client.download_file(dir_to_save + \"DASH_BUFFER_LOG.csv\", \"/home/ubuntu/ASTREAM_LOGS/\" + DASH_BUFFER_LOG)"
   ]
  },
  {
   "cell_type": "markdown",
   "metadata": {
    "tags": []
   },
   "source": [
    "#### Run Trace Experiments on Terminal"
   ]
  },
  {
   "cell_type": "code",
   "execution_count": 48,
   "metadata": {},
   "outputs": [],
   "source": [
    "# Download Log files\n",
    "dir_to_save = HOME + RB + TRACE_M15\n",
    "client.download_file(dir_to_save + \"BigBuckBunny.mp4\", \"/home/ubuntu/BigBuckBunny.mp4\")\n",
    "DASH_BUFFER_LOG=\"DASH_BUFFER_LOG-last.csv\"\n",
    "client.download_file(dir_to_save + \"DASH_BUFFER_LOG.csv\", \"/home/ubuntu/ASTREAM_LOGS/\" + DASH_BUFFER_LOG)"
   ]
  },
  {
   "cell_type": "code",
   "execution_count": 51,
   "metadata": {},
   "outputs": [],
   "source": [
    "# Download Log files\n",
    "dir_to_save = HOME + RB + TRACE_B62\n",
    "client.download_file(dir_to_save + \"BigBuckBunny.mp4\", \"/home/ubuntu/BigBuckBunny.mp4\")\n",
    "DASH_BUFFER_LOG=\"DASH_BUFFER_LOG-last.csv\"\n",
    "client.download_file(dir_to_save + \"DASH_BUFFER_LOG.csv\", \"/home/ubuntu/ASTREAM_LOGS/\" + DASH_BUFFER_LOG)"
   ]
  },
  {
   "cell_type": "code",
   "execution_count": 52,
   "metadata": {},
   "outputs": [],
   "source": [
    "# Download Log files\n",
    "dir_to_save = HOME + RB + TRACE_NYU\n",
    "client.download_file(dir_to_save + \"BigBuckBunny.mp4\", \"/home/ubuntu/BigBuckBunny.mp4\")\n",
    "DASH_BUFFER_LOG=\"DASH_BUFFER_LOG-last.csv\"\n",
    "client.download_file(dir_to_save + \"DASH_BUFFER_LOG.csv\", \"/home/ubuntu/ASTREAM_LOGS/\" + DASH_BUFFER_LOG)"
   ]
  },
  {
   "cell_type": "code",
   "execution_count": 53,
   "metadata": {},
   "outputs": [],
   "source": [
    "# Download Log files\n",
    "dir_to_save = HOME + BB + TRACE_M15\n",
    "client.download_file(dir_to_save + \"BigBuckBunny.mp4\", \"/home/ubuntu/BigBuckBunny.mp4\")\n",
    "DASH_BUFFER_LOG=\"DASH_BUFFER_LOG-last.csv\"\n",
    "client.download_file(dir_to_save + \"DASH_BUFFER_LOG.csv\", \"/home/ubuntu/ASTREAM_LOGS/\" + DASH_BUFFER_LOG)"
   ]
  },
  {
   "cell_type": "code",
   "execution_count": 54,
   "metadata": {},
   "outputs": [],
   "source": [
    "# Download Log files\n",
    "dir_to_save = HOME + BB + TRACE_B62\n",
    "client.download_file(dir_to_save + \"BigBuckBunny.mp4\", \"/home/ubuntu/BigBuckBunny.mp4\")\n",
    "DASH_BUFFER_LOG=\"DASH_BUFFER_LOG-last.csv\"\n",
    "client.download_file(dir_to_save + \"DASH_BUFFER_LOG.csv\", \"/home/ubuntu/ASTREAM_LOGS/\" + DASH_BUFFER_LOG)"
   ]
  },
  {
   "cell_type": "code",
   "execution_count": 55,
   "metadata": {},
   "outputs": [],
   "source": [
    "# Download Log files\n",
    "dir_to_save = HOME + BB + TRACE_NYU\n",
    "client.download_file(dir_to_save + \"BigBuckBunny.mp4\", \"/home/ubuntu/BigBuckBunny.mp4\")\n",
    "DASH_BUFFER_LOG=\"DASH_BUFFER_LOG-last.csv\"\n",
    "client.download_file(dir_to_save + \"DASH_BUFFER_LOG.csv\", \"/home/ubuntu/ASTREAM_LOGS/\" + DASH_BUFFER_LOG)"
   ]
  },
  {
   "cell_type": "code",
   "execution_count": 56,
   "metadata": {},
   "outputs": [],
   "source": [
    "# Download Log files\n",
    "dir_to_save = HOME + SARA + TRACE_M15\n",
    "client.download_file(dir_to_save + \"BigBuckBunny.mp4\", \"/home/ubuntu/BigBuckBunny.mp4\")\n",
    "DASH_BUFFER_LOG=\"DASH_BUFFER_LOG-last.csv\"\n",
    "client.download_file(dir_to_save + \"DASH_BUFFER_LOG.csv\", \"/home/ubuntu/ASTREAM_LOGS/\" + DASH_BUFFER_LOG)"
   ]
  },
  {
   "cell_type": "code",
   "execution_count": 58,
   "metadata": {},
   "outputs": [],
   "source": [
    "# Download Log files\n",
    "dir_to_save = HOME + SARA + TRACE_B62\n",
    "client.download_file(dir_to_save + \"BigBuckBunny.mp4\", \"/home/ubuntu/BigBuckBunny.mp4\")\n",
    "DASH_BUFFER_LOG=\"DASH_BUFFER_LOG-last.csv\"\n",
    "client.download_file(dir_to_save + \"DASH_BUFFER_LOG.csv\", \"/home/ubuntu/ASTREAM_LOGS/\" + DASH_BUFFER_LOG)"
   ]
  },
  {
   "cell_type": "code",
   "execution_count": 59,
   "metadata": {},
   "outputs": [],
   "source": [
    "# Download Log files\n",
    "dir_to_save = HOME + SARA + TRACE_NYU\n",
    "client.download_file(dir_to_save + \"BigBuckBunny.mp4\", \"/home/ubuntu/BigBuckBunny.mp4\")\n",
    "DASH_BUFFER_LOG=\"DASH_BUFFER_LOG-last.csv\"\n",
    "client.download_file(dir_to_save + \"DASH_BUFFER_LOG.csv\", \"/home/ubuntu/ASTREAM_LOGS/\" + DASH_BUFFER_LOG)"
   ]
  },
  {
   "cell_type": "code",
   "execution_count": 60,
   "metadata": {},
   "outputs": [],
   "source": [
    "# Download Log files\n",
    "dir_to_save = HOME + RA + TRACE_M15\n",
    "client.download_file(dir_to_save + \"BigBuckBunny.mp4\", \"/home/ubuntu/BigBuckBunny.mp4\")\n",
    "DASH_BUFFER_LOG=\"DASH_BUFFER_LOG-last.csv\"\n",
    "client.download_file(dir_to_save + \"DASH_BUFFER_LOG.csv\", \"/home/ubuntu/ASTREAM_LOGS/\" + DASH_BUFFER_LOG)"
   ]
  },
  {
   "cell_type": "code",
   "execution_count": 62,
   "metadata": {},
   "outputs": [],
   "source": [
    "# Download Log files\n",
    "dir_to_save = HOME + RA + TRACE_B62\n",
    "client.download_file(dir_to_save + \"BigBuckBunny.mp4\", \"/home/ubuntu/BigBuckBunny.mp4\")\n",
    "DASH_BUFFER_LOG=\"DASH_BUFFER_LOG-last.csv\"\n",
    "client.download_file(dir_to_save + \"DASH_BUFFER_LOG.csv\", \"/home/ubuntu/ASTREAM_LOGS/\" + DASH_BUFFER_LOG)"
   ]
  },
  {
   "cell_type": "code",
   "execution_count": 9,
   "metadata": {},
   "outputs": [],
   "source": [
    "# Download Log files\n",
    "dir_to_save = HOME + RA + TRACE_NYU\n",
    "\n",
    "DASH_BUFFER_LOG=\"DASH_BUFFER_LOG-last.csv\"\n",
    "client.download_file(dir_to_save + \"DASH_BUFFER_LOG.csv\", \"/home/ubuntu/ASTREAM_LOGS/\" + DASH_BUFFER_LOG)"
   ]
  },
  {
   "cell_type": "markdown",
   "metadata": {
    "tags": []
   },
   "source": [
    "### Import files into client node and/or server node"
   ]
  },
  {
   "cell_type": "code",
   "execution_count": 11,
   "metadata": {},
   "outputs": [
    {
     "data": {
      "text/plain": [
       "<SFTPAttributes: [ size=29997 uid=1000 gid=1000 mode=0o100775 atime=1714540973 mtime=1714544047 ]>"
      ]
     },
     "execution_count": 11,
     "metadata": {},
     "output_type": "execute_result"
    }
   ],
   "source": [
    "slice.get_node(clt).upload_file(\"/home/fabric/work/CSE534_Project/dash_client.py\", \"/home/ubuntu/AStream/dist/client/dash_client.py\")"
   ]
  },
  {
   "cell_type": "code",
   "execution_count": null,
   "metadata": {},
   "outputs": [],
   "source": [
    "slice.get_node(clt).upload_file(\"/home/fabric/work/CSE534_Project/netflix_dash.py\", \"/home/ubuntu/AStream/dist/client/adaptation/netflix_dash.py\")"
   ]
  },
  {
   "cell_type": "code",
   "execution_count": null,
   "metadata": {},
   "outputs": [],
   "source": [
    "slice.get_node(clt).upload_file(\"/home/fabric/work/CSE534_Project/config_dash.py\", \"/home/ubuntu/AStream/dist/client/config_dash.py\")"
   ]
  },
  {
   "cell_type": "code",
   "execution_count": 10,
   "metadata": {},
   "outputs": [
    {
     "data": {
      "text/plain": [
       "<SFTPAttributes: [ size=8431 uid=1000 gid=1000 mode=0o100664 atime=1714540973 mtime=1714544044 ]>"
      ]
     },
     "execution_count": 10,
     "metadata": {},
     "output_type": "execute_result"
    }
   ],
   "source": [
    "slice.get_node(clt).upload_file(\"/home/fabric/work/CSE534_Project/randomized_dash.py\", \"/home/ubuntu/AStream/dist/client/adaptation/randomized_dash.py\")"
   ]
  },
  {
   "cell_type": "code",
   "execution_count": null,
   "metadata": {},
   "outputs": [],
   "source": [
    "slice.get_node(srv).upload_file(\"/home/fabric/work/adaptive-video/DASH_BUFFER_LOG-last.csv\", \"/home/ubuntu/ASTREAM_LOGS/DASH_BUFFER_LOG-last.csv\")"
   ]
  },
  {
   "cell_type": "markdown",
   "metadata": {
    "tags": []
   },
   "source": [
    "### Download files from client node and/or server node"
   ]
  },
  {
   "cell_type": "code",
   "execution_count": null,
   "metadata": {},
   "outputs": [],
   "source": [
    "slice.get_node(\"clt\").download_file(\"/home/fabric/work/adaptive-video/DASH_BUFFER_LOG-last.csv\", \"/home/ubuntu/ASTREAM_LOGS/DASH_BUFFER_LOG-last.csv\")"
   ]
  },
  {
   "cell_type": "code",
   "execution_count": null,
   "metadata": {},
   "outputs": [],
   "source": [
    "slice.get_node(\"srv\").download_file(\"/home/fabric/work/adaptive-video/DASH_BUFFER_LOG-last.csv\", \"/home/ubuntu/ASTREAM_LOGS/DASH_BUFFER_LOG-last.csv\")"
   ]
  },
  {
   "cell_type": "code",
   "execution_count": 26,
   "metadata": {},
   "outputs": [],
   "source": [
    "client.download_file(\"/home/fabric/work/CSE534_Project/reset.sh\", \"/home/ubuntu/reset.sh\")"
   ]
  },
  {
   "cell_type": "code",
   "execution_count": 27,
   "metadata": {},
   "outputs": [],
   "source": [
    "client.download_file(\"/home/fabric/work/CSE534_Project/extract_results.sh\", \"/home/ubuntu/extract_results.sh\")"
   ]
  },
  {
   "cell_type": "markdown",
   "metadata": {
    "jp-MarkdownHeadingCollapsed": true,
    "tags": []
   },
   "source": [
    "### Delete Slice"
   ]
  },
  {
   "cell_type": "code",
   "execution_count": null,
   "metadata": {},
   "outputs": [],
   "source": [
    "slice = fablib.get_slice(name=slice_name)\n",
    "fablib.delete_slice(slice_name)"
   ]
  },
  {
   "cell_type": "code",
   "execution_count": null,
   "metadata": {},
   "outputs": [],
   "source": []
  }
 ],
 "metadata": {
  "colab": {
   "provenance": []
  },
  "kernelspec": {
   "display_name": "Python 3 (ipykernel)",
   "language": "python",
   "name": "python3"
  },
  "language_info": {
   "codemirror_mode": {
    "name": "ipython",
    "version": 3
   },
   "file_extension": ".py",
   "mimetype": "text/x-python",
   "name": "python",
   "nbconvert_exporter": "python",
   "pygments_lexer": "ipython3",
   "version": "3.10.6"
  }
 },
 "nbformat": 4,
 "nbformat_minor": 4
}
